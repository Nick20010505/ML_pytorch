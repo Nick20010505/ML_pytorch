{
 "cells": [
  {
   "cell_type": "code",
   "execution_count": 2,
   "metadata": {},
   "outputs": [],
   "source": [
    "import pandas as pd\n",
    "import matplotlib.pyplot as plt\n",
    "from sklearn import datasets , preprocessing , linear_model\n",
    "from sklearn.linear_model import LogisticRegression\n",
    "from sklearn.preprocessing import MinMaxScaler"
   ]
  },
  {
   "cell_type": "code",
   "execution_count": 3,
   "metadata": {},
   "outputs": [],
   "source": [
    "train_data = pd.read_csv(\"train.csv\")\n",
    "test_data = pd.read_csv(\"test.csv\")\n",
    "submit = pd.read_csv(\"gender_submission.csv\")\n",
    "train_y = train_data.iloc[:,1:2]\n",
    "output=pd.DataFrame([test_data['PassengerId']]).T"
   ]
  },
  {
   "cell_type": "code",
   "execution_count": 4,
   "metadata": {},
   "outputs": [
    {
     "data": {
      "text/plain": [
       "PassengerId      0\n",
       "Survived         0\n",
       "Pclass           0\n",
       "Name             0\n",
       "Sex              0\n",
       "Age            177\n",
       "SibSp            0\n",
       "Parch            0\n",
       "Ticket           0\n",
       "Fare             0\n",
       "Cabin          687\n",
       "Embarked         2\n",
       "dtype: int64"
      ]
     },
     "execution_count": 4,
     "metadata": {},
     "output_type": "execute_result"
    }
   ],
   "source": [
    "train_data.isnull().sum()"
   ]
  },
  {
   "cell_type": "code",
   "execution_count": 5,
   "metadata": {},
   "outputs": [
    {
     "data": {
      "text/plain": [
       "PassengerId      0\n",
       "Pclass           0\n",
       "Name             0\n",
       "Sex              0\n",
       "Age             86\n",
       "SibSp            0\n",
       "Parch            0\n",
       "Ticket           0\n",
       "Fare             1\n",
       "Cabin          327\n",
       "Embarked         0\n",
       "dtype: int64"
      ]
     },
     "execution_count": 5,
     "metadata": {},
     "output_type": "execute_result"
    }
   ],
   "source": [
    "test_data.isnull().sum()"
   ]
  },
  {
   "cell_type": "code",
   "execution_count": 6,
   "metadata": {},
   "outputs": [],
   "source": [
    "train_data['Age']=train_data['Age'].fillna(int(train_data['Age'].mean()))\n",
    "train_data['Embarked']=train_data['Embarked'].fillna(str(\"s\"))\n",
    "test_data['Age']=test_data['Age'].fillna(int(test_data['Age'].mean()))\n",
    "test_data['Fare']=test_data['Fare'].fillna(int(test_data['Fare'].mean()))"
   ]
  },
  {
   "cell_type": "code",
   "execution_count": 7,
   "metadata": {},
   "outputs": [],
   "source": [
    "lben=preprocessing.LabelEncoder() #將文字轉換成數字 \n",
    "train_data['Sex']=lben.fit_transform(train_data['Sex'])\n",
    "train_data['Ticket']=lben.fit_transform(train_data['Ticket'])\n",
    "train_data['Embarked']=lben.fit_transform(train_data['Embarked'])\n",
    "test_data['Sex']=lben.fit_transform(test_data['Sex'])\n",
    "test_data['Ticket']=lben.fit_transform(test_data['Ticket'])\n",
    "test_data['Embarked']=lben.fit_transform(test_data['Embarked'])\n"
   ]
  },
  {
   "cell_type": "code",
   "execution_count": 8,
   "metadata": {},
   "outputs": [],
   "source": [
    "label = [\"PassengerId\", \"Survived\", \"Name\", \"Cabin\"]\n",
    "for i in label:\n",
    "    train_data = train_data.drop( i,axis=1)\n",
    "\n",
    "label = [\"PassengerId\", \"Name\", \"Cabin\"]\n",
    "for i in label:\n",
    "    test_data = test_data.drop( i,axis=1)\n"
   ]
  },
  {
   "cell_type": "code",
   "execution_count": 9,
   "metadata": {},
   "outputs": [],
   "source": [
    "selected_columns = [\"Pclass\", \"Age\", \"SibSp\", \"Ticket\", \"Fare\", \"Embarked\"]\n",
    "scaler_train = MinMaxScaler()\n",
    "scaler_test = MinMaxScaler()\n",
    "train_data[selected_columns] = scaler_train.fit_transform(train_data[selected_columns])\n",
    "test_data[selected_columns] = scaler_test.fit_transform(test_data[selected_columns])"
   ]
  },
  {
   "cell_type": "code",
   "execution_count": 10,
   "metadata": {},
   "outputs": [
    {
     "name": "stdout",
     "output_type": "stream",
     "text": [
      "訓練準確度 0.8080808080808081\n"
     ]
    },
    {
     "name": "stderr",
     "output_type": "stream",
     "text": [
      "c:\\ProgramData\\Anaconda3\\lib\\site-packages\\sklearn\\utils\\validation.py:63: DataConversionWarning: A column-vector y was passed when a 1d array was expected. Please change the shape of y to (n_samples, ), for example using ravel().\n",
      "  return f(*args, **kwargs)\n"
     ]
    }
   ],
   "source": [
    "model=LogisticRegression()\n",
    "model.fit(train_data,train_y)\n",
    "print('訓練準確度',model.score(train_data,train_y))\n",
    "y_test=model.predict(test_data)\n",
    "output['Survived']=pd.DataFrame(y_test)\n",
    "output.to_csv('sub.csv',index=False)"
   ]
  },
  {
   "cell_type": "code",
   "execution_count": 11,
   "metadata": {},
   "outputs": [
    {
     "name": "stderr",
     "output_type": "stream",
     "text": [
      "C:\\Users\\nick2\\AppData\\Local\\Temp/ipykernel_15216/1876301775.py:3: DataConversionWarning: A column-vector y was passed when a 1d array was expected. Please change the shape of y to (n_samples,), for example using ravel().\n",
      "  model.fit(train_data,train_y)\n"
     ]
    },
    {
     "name": "stdout",
     "output_type": "stream",
     "text": [
      "訓練準確度 0.8933782267115601\n"
     ]
    }
   ],
   "source": [
    "from sklearn.ensemble import RandomForestClassifier\n",
    "model = RandomForestClassifier(random_state=2,n_estimators=250,min_samples_split=20)\n",
    "model.fit(train_data,train_y)\n",
    "print('訓練準確度',model.score(train_data,train_y))\n",
    "y_test=model.predict(test_data)\n",
    "output['Survived']=pd.DataFrame(y_test)\n",
    "output.to_csv('sub.csv',index=False)"
   ]
  },
  {
   "cell_type": "code",
   "execution_count": 17,
   "metadata": {},
   "outputs": [
    {
     "name": "stderr",
     "output_type": "stream",
     "text": [
      "C:\\Users\\nick2\\AppData\\Local\\Temp/ipykernel_15216/736943637.py:4: DataConversionWarning: A column-vector y was passed when a 1d array was expected. Please change the shape of y to (n_samples,), for example using ravel().\n",
      "  model.fit(train_data,train_y)\n"
     ]
    },
    {
     "name": "stdout",
     "output_type": "stream",
     "text": [
      "訓練準確度 0.9180695847362514\n"
     ]
    }
   ],
   "source": [
    "from sklearn.ensemble import RandomForestClassifier\n",
    "model = RandomForestClassifier(criterion='gini', n_estimators=250,min_samples_split=12,\n",
    "                               min_samples_leaf=1, random_state=1, oob_score=True, n_jobs=-1)\n",
    "model.fit(train_data,train_y)\n",
    "print('訓練準確度',model.score(train_data,train_y))\n",
    "y_test=model.predict(test_data)\n",
    "output['Survived']=pd.DataFrame(y_test)\n",
    "output.to_csv('sub.csv',index=False)"
   ]
  },
  {
   "cell_type": "code",
   "execution_count": 18,
   "metadata": {},
   "outputs": [
    {
     "name": "stdout",
     "output_type": "stream",
     "text": [
      "訓練準確度 0.7957351290684624\n"
     ]
    }
   ],
   "source": [
    "from sklearn.tree import DecisionTreeClassifier\n",
    "model = DecisionTreeClassifier(max_depth=2)\n",
    "model.fit(train_data,train_y)\n",
    "print('訓練準確度',model.score(train_data,train_y))\n",
    "y_test=model.predict(test_data)\n",
    "output['Survived']=pd.DataFrame(y_test)\n",
    "output.to_csv('sub.csv',index=False)"
   ]
  },
  {
   "cell_type": "code",
   "execution_count": 19,
   "metadata": {},
   "outputs": [
    {
     "name": "stdout",
     "output_type": "stream",
     "text": [
      "訓練準確度 0.8204264870931538\n"
     ]
    },
    {
     "name": "stderr",
     "output_type": "stream",
     "text": [
      "c:\\ProgramData\\Anaconda3\\lib\\site-packages\\sklearn\\utils\\validation.py:63: DataConversionWarning: A column-vector y was passed when a 1d array was expected. Please change the shape of y to (n_samples, ), for example using ravel().\n",
      "  return f(*args, **kwargs)\n"
     ]
    }
   ],
   "source": [
    "from sklearn.svm import SVC\n",
    "model = SVC(kernel = 'rbf')\n",
    "model.fit(train_data,train_y)\n",
    "print('訓練準確度',model.score(train_data,train_y))\n",
    "y_test=model.predict(test_data)\n",
    "output['Survived']=pd.DataFrame(y_test)\n",
    "output.to_csv('sub.csv',index=False)"
   ]
  }
 ],
 "metadata": {
  "kernelspec": {
   "display_name": "base",
   "language": "python",
   "name": "python3"
  },
  "language_info": {
   "codemirror_mode": {
    "name": "ipython",
    "version": 3
   },
   "file_extension": ".py",
   "mimetype": "text/x-python",
   "name": "python",
   "nbconvert_exporter": "python",
   "pygments_lexer": "ipython3",
   "version": "3.9.7"
  },
  "orig_nbformat": 4
 },
 "nbformat": 4,
 "nbformat_minor": 2
}
